{
 "cells": [
  {
   "cell_type": "code",
   "execution_count": null,
   "metadata": {},
   "outputs": [],
   "source": [
    "print (\"hello world\")"
   ]
  },
  {
   "cell_type": "code",
   "execution_count": null,
   "metadata": {},
   "outputs": [],
   "source": [
    "timing=input(\"your timing\")\n",
    "name=input(\"enter your name\")\n",
    "father_name=input(\"enter your father name\")\n",
    "uni=input(\"enter university name\")\n",
    "\n",
    "message= \"\"\"\n",
    "PIAIC ISLAMABAD BATCH3\n",
    "TIMING: {}\n",
    "NAME: {}\n",
    "FATHER'S NAME: {}\n",
    "UNIVERSITY: {}\n",
    "\n",
    "\"\"\"\n",
    "\n",
    "message = message.format(timing  , name , father_name , uni)\n",
    "\n",
    "print(message)"
   ]
  },
  {
   "cell_type": "code",
   "execution_count": null,
   "metadata": {},
   "outputs": [],
   "source": []
  },
  {
   "cell_type": "code",
   "execution_count": null,
   "metadata": {},
   "outputs": [],
   "source": [
    "name = input(\"enter student name  \")\n",
    "phy = int (input(\"enter physiscs marks  \"))\n",
    "chem = int (input(\"enter chemistry marks  \"))\n",
    "bio = int (input(\"enter biology marks  \"))\n",
    "eng = int (input(\"enter english marks  \"))\n",
    "urdu = int (input(\"enter urdu marks  \"))\n",
    "pst = int (input(\"enter pak study marks  \"))\n",
    "\n",
    "total = phy+chem+bio+eng+urdu+pst\n",
    "\n",
    "perc= total/505 *100\n",
    "\n",
    "msg = \"\"\"\n",
    "BAHRIA UNIVERSITY FALL 2019\n",
    "NAME : {}\n",
    "PHYSICS : {}\n",
    "CHEMISTRY : {}\n",
    "BIOLOGY : {}\n",
    "ENGLISH : {}\n",
    "URDU : {}\n",
    "TOTAL MARKS : {}\n",
    "OVERALL PERCENTAGE : {}\n",
    "\n",
    "\"\"\"\n",
    "\n",
    "msg = msg.format(name , phy , chem , bio , eng , urdu , total , perc )\n",
    "\n",
    "print(msg)\n",
    "\n",
    "\n",
    " \n"
   ]
  },
  {
   "cell_type": "code",
   "execution_count": null,
   "metadata": {},
   "outputs": [],
   "source": [
    "name = input(\"enter student name  \")\n",
    "phy = int (input(\"enter physiscs marks  \"))\n",
    "chem = int (input(\"enter chemistry marks  \"))\n",
    "bio = int (input(\"enter biology marks  \"))\n",
    "eng = int (input(\"enter english marks  \"))\n",
    "urdu = int (input(\"enter urdu marks  \"))\n",
    "pst = int (input(\"enter pak study marks  \"))\n",
    "\n",
    "total = phy+chem+bio+eng+urdu+pst\n",
    "\n",
    "perc= total/505 *100\n",
    "\n",
    "msg = \"\"\"\n",
    "BAHRIA UNIVERSITY FALL 2019\n",
    "NAME : {}\n",
    "PHYSICS : {}\n",
    "CHEMISTRY : {}\n",
    "BIOLOGY : {}\n",
    "ENGLISH : {}\n",
    "URDU : {}\n",
    "TOTAL MARKS : {}\n",
    "OVERALL PERCENTAGE : {}\n",
    "\n",
    "\"\"\"\n",
    "\n",
    "msg = msg.format(name , phy , chem , bio , eng , urdu , total , perc )\n",
    "\n",
    "print(msg)"
   ]
  },
  {
   "cell_type": "code",
   "execution_count": null,
   "metadata": {},
   "outputs": [],
   "source": []
  },
  {
   "cell_type": "code",
   "execution_count": null,
   "metadata": {},
   "outputs": [],
   "source": []
  }
 ],
 "metadata": {
  "kernelspec": {
   "display_name": "Python 3",
   "language": "python",
   "name": "python3"
  },
  "language_info": {
   "codemirror_mode": {
    "name": "ipython",
    "version": 3
   },
   "file_extension": ".py",
   "mimetype": "text/x-python",
   "name": "python",
   "nbconvert_exporter": "python",
   "pygments_lexer": "ipython3",
   "version": "3.7.4"
  }
 },
 "nbformat": 4,
 "nbformat_minor": 2
}
